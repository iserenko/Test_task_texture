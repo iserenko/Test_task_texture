{
  "nbformat": 4,
  "nbformat_minor": 0,
  "metadata": {
    "colab": {
      "provenance": []
    },
    "kernelspec": {
      "name": "python3",
      "display_name": "Python 3"
    },
    "language_info": {
      "name": "python"
    }
  },
  "cells": [
    {
      "cell_type": "code",
      "execution_count": null,
      "metadata": {
        "id": "sTNgLWghlfup"
      },
      "outputs": [],
      "source": [
        "import cv2\n",
        "from google.colab.patches import cv2_imshow\n",
        "import numpy as np\n",
        "from PIL import Image, ImageFilter\n",
        "import matplotlib.pyplot as plt\n",
        "\n",
        "%pylab inline"
      ]
    },
    {
      "cell_type": "code",
      "source": [
        "input = cv2.imread('/content/drive/MyDrive/texture.png')"
      ],
      "metadata": {
        "id": "MebxrIbrmyAE"
      },
      "execution_count": null,
      "outputs": []
    },
    {
      "cell_type": "code",
      "source": [
        "cv2_imshow(input)\n"
      ],
      "metadata": {
        "id": "qsAt6svknBSG"
      },
      "execution_count": null,
      "outputs": []
    },
    {
      "cell_type": "markdown",
      "source": [
        "Начнём с простого повторения изображения по схеме 3х3 без изменения ориентации тайлов и применения каких-либо методов обработки, чтобы оценить проблемы, которые предстоит решать."
      ],
      "metadata": {
        "id": "wvmB02DdtXpZ"
      }
    },
    {
      "cell_type": "code",
      "source": [
        "def texture_repeat(input):\n",
        "    duplicated = cv2.repeat(input, 3, 3)\n",
        "    return duplicated"
      ],
      "metadata": {
        "id": "ABfYkHtGnTZr"
      },
      "execution_count": null,
      "outputs": []
    },
    {
      "cell_type": "code",
      "source": [
        "duplicated = texture_repeat(input)\n",
        "cv2_imshow(duplicated)\n"
      ],
      "metadata": {
        "id": "QCcRSE0ZqfFP"
      },
      "execution_count": null,
      "outputs": []
    },
    {
      "cell_type": "markdown",
      "source": [
        "Текстура очевидно не является \"бесшовной\"\n",
        "\n",
        "Отчётливо видны повторяющиеся паттерны оригинальной текстуры, цветовые переходы и стыки на границах тайлов.\n",
        "\n",
        "Особенно выделяются более тёмный верхний левый угол каждого тайла, вертикальные стыки между тайлами из-за переходв цвета, и горизонтальная линия сгиба ткани по центру."
      ],
      "metadata": {
        "id": "WfhV6X2hs3nE"
      }
    },
    {
      "cell_type": "markdown",
      "source": [
        "# 1. Метод отражений\n",
        "Попробуем метод отражений: в центре помещается исходный тайл, сверху и снизу от него - исходный тайл, отражённый по вертикали, слева и справа - исходный тайл, отражённый по горизонтали, по углам - исходный тайл, отражённый по вертикали и по горизонтали.   "
      ],
      "metadata": {
        "id": "DKrXaHYK7ekb"
      }
    },
    {
      "cell_type": "code",
      "source": [
        "def texture_mirror(input):\n",
        "    input_flipped_horz = cv2.flip(input, 1)\n",
        "    input_flipped_vert = cv2.flip(input, 0)\n",
        "    input_flipped_both = cv2.flip(input, -1)\n",
        "    top = np.hstack([input_flipped_both, input_flipped_vert, input_flipped_both])\n",
        "    mid = np.hstack([input_flipped_horz, input, input_flipped_horz])\n",
        "    bot = np.hstack([input_flipped_both, input_flipped_vert, input_flipped_both])\n",
        "    result_mirror = np.vstack([top, mid, bot])\n",
        "    return result_mirror"
      ],
      "metadata": {
        "id": "Pub3AsWWOySY"
      },
      "execution_count": null,
      "outputs": []
    },
    {
      "cell_type": "code",
      "source": [
        "result_mirror = texture_mirror(input)\n",
        "cv2_imshow(result_mirror)"
      ],
      "metadata": {
        "id": "bd8RzUXUPD2G"
      },
      "execution_count": null,
      "outputs": []
    },
    {
      "cell_type": "markdown",
      "source": [
        "Заметных цветовых переходов на границах тайлов больше нет, однако границы видны по образовавшимся зеркальным артефактам.\n",
        "Присутствуют повторяющиеся паттерны оригинальной текстуры."
      ],
      "metadata": {
        "id": "S6cRiPDH8DRs"
      }
    },
    {
      "cell_type": "markdown",
      "source": [
        "# 2. Альфа-смешивание\n",
        "\n",
        "Попробуем убрать швы между тайлами путём смешивания пограничных участков\n",
        "\n"
      ],
      "metadata": {
        "id": "K-WcxvrnIL4x"
      }
    },
    {
      "cell_type": "code",
      "source": [
        "# Размеры изображения\n",
        "h, w, c = input.shape"
      ],
      "metadata": {
        "id": "6hAgRRp2WtkX"
      },
      "execution_count": null,
      "outputs": []
    },
    {
      "cell_type": "code",
      "source": [
        "# Ширина обрабатываемых краёв в процентах от размера изображения (ширины и высоты, соответственно)\n",
        "BORDER_WIDTH_PERCENT_VERT = 6\n",
        "BORDER_WIDTH_PERCENT_HORZ = 5\n",
        "# Определяем центральные зоны для сглаживания швов\n",
        "border_size_vert = int(BORDER_WIDTH_PERCENT_VERT / 100 * w)\n",
        "border_size_horz = int(BORDER_WIDTH_PERCENT_HORZ / 100 * h)"
      ],
      "metadata": {
        "id": "9-aoXPCBXOYi"
      },
      "execution_count": null,
      "outputs": []
    },
    {
      "cell_type": "code",
      "source": [
        "# Начнём с вертикальных швов\n",
        "# Сначала создадим 2 новых тайла, сдвинутых по горизонтали\n",
        "shifted_horz_left = np.roll(input, shift= w // 2 + border_size_vert, axis=1)\n",
        "shifted_horz_right = np.roll(input, shift= w // 2 - border_size_vert, axis=1)"
      ],
      "metadata": {
        "id": "SIs3TLCeAi42"
      },
      "execution_count": null,
      "outputs": []
    },
    {
      "cell_type": "code",
      "source": [
        "# Создаём градиентную альфа-маску для плавного перехода\n",
        "horiz_gradient = np.tile(np.linspace(0.0, 1.0, 2 * border_size_vert).reshape(1, -1, 1), (h, 1, 3))\n",
        "\n",
        "alpha_mask_horz = np.zeros((h, w, 3))\n",
        "\n",
        "alpha_mask_horz[:, w // 2 - border_size_vert: w // 2 + border_size_vert, :] = horiz_gradient\n",
        "alpha_mask_horz[:, w // 2 + border_size_vert:, :] = 1\n",
        "\n",
        "# Обратная маска\n",
        "alpha_mask_horz_reverted = 1 - alpha_mask_horz"
      ],
      "metadata": {
        "id": "moFnSkv89PPI"
      },
      "execution_count": null,
      "outputs": []
    },
    {
      "cell_type": "code",
      "source": [
        "# Применяем маску для получения правой части\n",
        "half_right = cv2.multiply(alpha_mask_horz, shifted_horz_right.astype(np.float32), dtype=cv2.CV_32F)\n",
        "\n",
        "# Применяем обратную маску для получения левой части\n",
        "half_left = cv2.multiply(alpha_mask_horz_reverted, shifted_horz_left.astype(np.float32), dtype=cv2.CV_32F)\n",
        "\n",
        "# Суммируем полученные части\n",
        "outImage_vert_blend = cv2.add(half_right, half_left, dtype=cv2.CV_32F)"
      ],
      "metadata": {
        "id": "NRypl43kGtQ9"
      },
      "execution_count": null,
      "outputs": []
    },
    {
      "cell_type": "code",
      "source": [
        "cv2_imshow(outImage_vert_blend)"
      ],
      "metadata": {
        "id": "y9WXaw-n_7Sm"
      },
      "execution_count": null,
      "outputs": []
    },
    {
      "cell_type": "code",
      "source": [
        "# Сделаем то же самое для горизонтальных швов\n",
        "# Убираем горизонтальные швы\n",
        "shifted_vert_top = np.roll(outImage_vert_blend, shift= h // 2 + border_size_horz, axis=0)\n",
        "shifted_vert_bottom = np.roll(outImage_vert_blend, shift= h // 2 - border_size_horz, axis=0)\n",
        "\n",
        "#\n",
        "vert_gradient = np.tile(np.linspace(0.0, 1.0, 2 * border_size_horz).reshape(-1, 1, 1), (1, w, 3))\n",
        "\n",
        "alpha_mask_vert = np.zeros((h, w, 3))\n",
        "#\n",
        "alpha_mask_vert[h // 2 - border_size_horz : h // 2 + border_size_horz, :, :] = vert_gradient\n",
        "alpha_mask_vert[h // 2 + border_size_horz :, :, :] = 1\n",
        "\n",
        "alpha_mask_vert_reverted = 1 - alpha_mask_vert"
      ],
      "metadata": {
        "id": "nMbsbuiNFSm2"
      },
      "execution_count": null,
      "outputs": []
    },
    {
      "cell_type": "code",
      "source": [
        "# Применяем обратную маску для получения верхней части\n",
        "half_top = cv2.multiply(alpha_mask_vert_reverted, shifted_vert_top.astype(np.float32), dtype=cv2.CV_32F)\n",
        "\n",
        "# Применяем маску для получения нижней части\n",
        "half_bottom = cv2.multiply(alpha_mask_vert, shifted_vert_bottom.astype(np.float32), dtype=cv2.CV_32F)\n",
        "\n",
        "# Суммируем полученные части\n",
        "outImage_blend = cv2.add(half_top, half_bottom, dtype=cv2.CV_32F)"
      ],
      "metadata": {
        "id": "n9R3l2oYPX9Y"
      },
      "execution_count": null,
      "outputs": []
    },
    {
      "cell_type": "code",
      "source": [
        "# Возвращаем тайл в изначальное полжение\n",
        "original_tile_processed = np.roll(outImage_blend, shift= (h // 2, w // 2), axis = (0, 1))"
      ],
      "metadata": {
        "id": "ylaPAk0NwA5p"
      },
      "execution_count": null,
      "outputs": []
    },
    {
      "cell_type": "code",
      "source": [
        "output_texture_repeat = texture_repeat(original_tile_processed)\n",
        "cv2_imshow(output_texture_repeat)"
      ],
      "metadata": {
        "id": "29koCI7WEaqK"
      },
      "execution_count": null,
      "outputs": []
    },
    {
      "cell_type": "markdown",
      "source": [
        "Таким образом, мы избавились от заметных цветовых переходов и стыков на границах тайлов. Остались видны только горизонтальные линии сгиба ткани, присутствующие и на оригинальном изображении. При необходимости можно сгладить их тем же методом альфа-блендинга.\n",
        "\n",
        "Основные минусы решения:\n",
        "1. Решение адаптировано под конкретную текстуру ткани с мелким плетением. В случае наличия более крупных различимых элементов метод альфа-блендинга не подойдёт\n",
        "2. Обработанные стыки могут выглядеть менее резкими, чем остальное изображение.\n",
        "\n",
        "В качестве дальнейших шагов можно попробовать использовать фильтр GaussianBlur, чтобы выделить размытую составляющую и вычесть её из изображения. Однако применение фильтров ко всему изображению повлияет на резкость исходного тайла, а применеие фильтров только к обработанным участкам может сделать их ещё более заметными.\n",
        "\n",
        "Чтобы сгладить различия в резкости, также можно попробовать использовать фильтр размытия на всём изображении, а затем одну из моделей для решения задачи SuperResolution. В случае с исходной текстурой данный подход кажется неоправданно сложным.\n",
        "\n",
        "Также можно использовать Stable Diffusion Inpainting для генерирования частей изображения в области стыков и создания бесшовной текстуры"
      ],
      "metadata": {
        "id": "wer2QDyrYDCU"
      }
    },
    {
      "cell_type": "code",
      "source": [
        "blurred_image = cv2.GaussianBlur(output_texture_repeat, (0,0), 3)\n",
        "sharpened_image = cv2.addWeighted(output_texture_repeat, 1.5, blurred_image, -0.5, 0)"
      ],
      "metadata": {
        "id": "VKW94FodhAaa"
      },
      "execution_count": null,
      "outputs": []
    },
    {
      "cell_type": "code",
      "source": [
        "cv2_imshow(sharpened_image)"
      ],
      "metadata": {
        "id": "f4LXa6LierVu"
      },
      "execution_count": null,
      "outputs": []
    },
    {
      "cell_type": "markdown",
      "source": [
        "# Конец предложенного решения"
      ],
      "metadata": {
        "id": "-X9-kSOwu2Tj"
      }
    },
    {
      "cell_type": "markdown",
      "source": [
        "#  3. Готовые open-source решения\n",
        "  Существуют также готовые решения для похожей задачи создания бесшовных текстур:\n",
        "\n",
        "\n",
        "1.   https://github.com/rtmigo/img2texture/tree/master - использует альфа-блендинг\n",
        "2.   https://github.com/sagieppel/convert-image-into-seamless-tileable-texture - более сложный подход, учитывающий разницу между краями изображения при смешивании и использующий Gaussian blur для сглаживания переходов.\n",
        "3. https://github.com/sagieppel/transform-image-into-seamless-tileable-texture-using-stable-diffusion-inpainting - использование StableDiffusion для преобразования краёв тайла с целью создания бесшовной текстуры\n",
        "4. https://github.com/TheRealMAV/texture-synthesis/tree/main - генерирование новой текстуры желаемого размера на основе исходного тайла (случайным образом выбирается блок из исходного изображения, далее полсдеовательно подбираются наиболее подходящие блоки для вставки справа и снизу от выбранного блока)  \n",
        "\n"
      ],
      "metadata": {
        "id": "Et6Xa_IJ_J6B"
      }
    },
    {
      "cell_type": "markdown",
      "source": [
        "Ниже только тестирование двух из перечисленный готовых решений на предоставленной текстуре для сравнения с полученными выше результатами.\n",
        "\n",
        "\n",
        "Метод 1\n",
        "\n",
        "Следующий метод также основан на подходе альфа-блендинга, но он обрезает края изображения. Поэтому он нам не подходит, используется для сравнения результатов\n",
        "\n",
        "Источник:\n",
        "https://github.com/rtmigo/img2texture/tree/master"
      ],
      "metadata": {
        "id": "EFkQdmlW6pbn"
      }
    },
    {
      "cell_type": "code",
      "source": [
        "!pip install img2texture"
      ],
      "metadata": {
        "id": "c-xhfF2QTEQn"
      },
      "execution_count": null,
      "outputs": []
    },
    {
      "cell_type": "code",
      "source": [
        "from img2texture import image_to_seamless"
      ],
      "metadata": {
        "id": "6_mtTsLsTM7m"
      },
      "execution_count": null,
      "outputs": []
    },
    {
      "cell_type": "code",
      "source": [
        "# load PIL image\n",
        "src_image = Image.open('/content/drive/MyDrive/texture.png')\n",
        "\n",
        "# convert to seamless PIL image\n",
        "result_image = image_to_seamless(src_image, overlap=0.1)"
      ],
      "metadata": {
        "id": "DpqfHhxXTN1U"
      },
      "execution_count": null,
      "outputs": []
    },
    {
      "cell_type": "code",
      "source": [
        "result_image"
      ],
      "metadata": {
        "id": "LmsanZezTfzs"
      },
      "execution_count": null,
      "outputs": []
    },
    {
      "cell_type": "code",
      "source": [
        "width, height = result_image.size"
      ],
      "metadata": {
        "id": "vdVneA8uT4Wv"
      },
      "execution_count": null,
      "outputs": []
    },
    {
      "cell_type": "code",
      "source": [
        "# Создаём новое изображение 3×3\n",
        "result = Image.new(\"RGB\", (width * 3, height * 3))\n",
        "\n",
        "# Раскладываем изображения в сетку\n",
        "# Центр — оригинал\n",
        "result.paste(result_image, (0, 0))             # левый верх\n",
        "result.paste(result_image, (width, 0))              # верхний центр\n",
        "result.paste(result_image, (2 * width, 0))         # правый верх\n",
        "\n",
        "result.paste(result_image, (0, height))              # левый центр\n",
        "result.paste(result_image, (width, height))                 # центр — оригинал\n",
        "result.paste(result_image, (2 * width, height))          # правый центр\n",
        "\n",
        "result.paste(result_image, (0, 2 * height))         # левый низ\n",
        "result.paste(result_image, (width, 2 * height))          # нижний центр\n",
        "result.paste(result_image, (2 * width, 2 * height))     # правый низ"
      ],
      "metadata": {
        "id": "SHhYP00qUXTU"
      },
      "execution_count": null,
      "outputs": []
    },
    {
      "cell_type": "code",
      "source": [
        "result"
      ],
      "metadata": {
        "id": "AAmPDN4ZUmwE"
      },
      "execution_count": null,
      "outputs": []
    },
    {
      "cell_type": "markdown",
      "source": [
        "Метод 4\n",
        "\n",
        "Источник:\n",
        "https://github.com/TheRealMAV/texture-synthesis/tree/main"
      ],
      "metadata": {
        "id": "Mbq5PP6zfF6l"
      }
    },
    {
      "cell_type": "code",
      "source": [
        "src = cv2.imread('/content/drive/MyDrive/texture.png')\n",
        "src = src.astype(np.float32)\n",
        "\n",
        "\n",
        "# parameters :\n",
        "randomness = 15\n",
        "divide = 4\n",
        "\n",
        "height, width, _ = src.shape\n",
        "bl = int(width / divide)  # block length\n",
        "\n",
        "result = np.zeros([3960, 3960, 3])"
      ],
      "metadata": {
        "id": "68b_RPNUfYNw"
      },
      "execution_count": null,
      "outputs": []
    },
    {
      "cell_type": "code",
      "source": [
        "init_y = np.random.randint(height - bl - 1)\n",
        "init_x = np.random.randint(width - bl - 1)\n",
        "\n",
        "block = np.copy(src[init_y:init_y + bl, init_x:init_x + bl, :])\n",
        "result[0:bl, 0:bl, :] = np.copy(block)\n",
        "\n",
        "result = result.astype(np.float32)"
      ],
      "metadata": {
        "id": "G7xoCfXAfjWB"
      },
      "execution_count": null,
      "outputs": []
    },
    {
      "cell_type": "code",
      "source": [
        "cv2_imshow(block)"
      ],
      "metadata": {
        "id": "5XdoZYXvfqR9"
      },
      "execution_count": null,
      "outputs": []
    },
    {
      "cell_type": "markdown",
      "source": [
        "(Сгенерированное описание)\n",
        "Выбранный блок кода определяет функцию getNextBlockRow. Эта функция предназначена для поиска подходящего блока из исходного изображения (src) для размещения справа от заданного блока и смешивания их для создания плавного горизонтального перехода.\n",
        "\n",
        "Вот краткое описание того, что делает код:\n",
        "\n",
        "1. Извлекает полосу из текущего блока: берет узкую вертикальную полосу с правой стороны входного блока. Эта полоса представляет собой область, которая будет перекрываться со следующим блоком.\n",
        "2. Вычисляет SSD (Сумму квадратов различий): Вычисляет сумму квадратов различий между этой полосой и потенциальными соответствующими полосками в блоках исходного изображения (src). Это помогает находить блоки в исходном изображении, левый край которых похож на правый край текущего блока.\n",
        "3. Выбирает случайный похожий блок: из случайного числа наиболее подходящих блоков (с наименьшим количеством SSD) случайным образом выбирается один. Это добавляет вариативности результирующей текстуре.\n",
        "4. Извлекает соответствующую полосу из следующего блока: берет вертикальную полосу с левой стороны выбранного следующего блока.\n",
        "5. Вычисляет разницу между полосами: Вычисляет разницу между полосой из текущего блока и полосой из следующего блока.\n",
        "6. Находит путь с минимальными затратами: Вычисляет матрицу \"затрат\" на основе различий между двумя полосами. Затем он находит путь по этой матрице затрат, который сводит к минимуму суммарную разницу, эффективно находя наименее заметную линию шва для горизонтального соединения.\n",
        "7. Совмещение по траектории минимальных затрат: Две полосы соединяются по рассчитанной траектории минимальных затрат. Это создает более плавный горизонтальный переход, чем простой жесткий разрез.\n",
        "8. Интегрирует смешанную полосу в следующий блок: она заменяет исходную левую полосу следующего блока на новую смешанную полосу.\n",
        "9. Возвращает смешанный блок: Функция возвращает следующий блок с плавно смешанным левым краем.\n"
      ],
      "metadata": {
        "id": "XcblB-6MxgqY"
      }
    },
    {
      "cell_type": "code",
      "source": [
        "def getNextBlockRow(block, src):\n",
        "\n",
        "    strip = np.copy(block[:, int(bl / 5 * 4):, :])\n",
        "    strip_h, strip_w, _ = strip.shape\n",
        "\n",
        "    ssd = np.zeros([height, width])\n",
        "\n",
        "    for i in range(3):\n",
        "        ker = np.ones(strip[:, :, i].shape)\n",
        "        C = np.sum(strip[:, :, i] * strip[:, :, i])\n",
        "        ssd += cv2.filter2D(src[:, :, i] * src[:, :, i], -1, ker) - 2 * (\n",
        "            cv2.filter2D(src[:, :, i], -1, strip[:, :, i])) + C\n",
        "\n",
        "    ssd = ssd[int(strip_h / 2):height - bl, int(strip_w / 2):width - bl]\n",
        "\n",
        "    ssd_flat = ssd.flatten()\n",
        "\n",
        "    k = randomness\n",
        "\n",
        "    random_index = np.argpartition(ssd_flat, k)[np.random.randint(k)]\n",
        "\n",
        "    x = int(random_index % ssd.shape[1])\n",
        "    y = int(random_index / ssd.shape[1])\n",
        "\n",
        "    next_block = np.copy(src[y:y + bl, x:x + bl, :])\n",
        "\n",
        "    next_strip = np.copy(next_block[0:strip_h, 0:strip_w, :])\n",
        "\n",
        "    strip_diff = strip - next_strip\n",
        "    strip_diff *= strip_diff\n",
        "\n",
        "    strip_diff = cv2.cvtColor(strip_diff, cv2.COLOR_BGR2GRAY)\n",
        "\n",
        "    cost = np.copy(strip_diff)\n",
        "    for i in range(1, strip_h):\n",
        "        for j in range(strip_w):\n",
        "            if j == 0:\n",
        "                cost[i, j] += min([cost[i - 1, j], cost[i - 1, j + 1]])\n",
        "            elif j == strip_w - 1:\n",
        "                cost[i, j] += min([cost[i - 1, j], cost[i - 1, j - 1]])\n",
        "            else:\n",
        "                cost[i, j] += min([min([cost[i - 1, j], cost[i - 1, j - 1]]), cost[i - 1, j + 1]])\n",
        "\n",
        "    res_strip = np.zeros(strip.shape)\n",
        "\n",
        "    line_index = np.argmin(cost[strip_h - 1])\n",
        "    for i in range(strip_h - 1, -1, -1):\n",
        "\n",
        "        res_strip[i, :line_index, :] = strip[i, :line_index, :]\n",
        "        res_strip[i, line_index:, :] = next_strip[i, line_index:, :]\n",
        "        if line_index == 0:\n",
        "            line_index += np.argmin((cost[i])[line_index:line_index + 2])\n",
        "        elif line_index == strip_w - 1:\n",
        "            line_index += np.argmin((cost[i])[line_index - 1:line_index + 1]) - 1\n",
        "        else:\n",
        "            line_index += np.argmin((cost[i])[line_index - 1:line_index + 2]) - 1\n",
        "\n",
        "    next_block[:, 0:strip_w, :] = res_strip\n",
        "    return next_block\n"
      ],
      "metadata": {
        "id": "txsvhKq8f67I"
      },
      "execution_count": null,
      "outputs": []
    },
    {
      "cell_type": "markdown",
      "source": [
        "(Сгенерированное описание)\n",
        "Выбранный блок кода определяет функцию getNextBlockCol. Эта функция похожа на getNextBlockRow, но предназначена для поиска подходящего блока из исходного изображения (src), размещения его под заданным блоком и смешивания их для создания плавного вертикального перехода.\n",
        "\n",
        "Вот краткое описание того, что делает код:\n",
        "\n",
        "1. Извлекает полосу из текущего блока: берет узкую горизонтальную полосу с нижней стороны входного блока. Эта полоса представляет собой область, которая будет перекрываться с блоком, расположенным под ней.\n",
        "2. Вычисляет SSD (Сумму квадратов различий): Вычисляет сумму квадратов различий между этой полосой и потенциальными соответствующими полосами в блоках исходного изображения (src). Это помогает найти блоки в исходном изображении, верхний край которых похож на нижний край текущего блока.\n",
        "3. Выбирает случайный похожий блок: из случайного числа наиболее подходящих блоков (с наименьшим SSD) случайным образом выбирается один. Это добавляет вариации к результирующей текстуре.\n",
        "4. Извлекает соответствующую полосу из следующего блока: берет горизонтальную полосу с верхней стороны выбранного следующего блока.\n",
        "5. Вычисляет разницу между полосами: Вычисляет разницу между полосой из текущего блока и полосой из следующего блока.\n",
        "6. Находит путь с минимальными затратами: вычисляет матрицу затрат на основе различий между двумя полосами. Затем находит путь через эту матрицу затрат, который минимизирует суммарную разницу, эффективно находя наименее заметную линию шва для вертикального соединения.\n",
        "7. Смешивание по траектории с минимальными затратами: Две полосы смешиваются по рассчитанной траектории с минимальными затратами. Это создает более плавный вертикальный переход, чем простой жесткий разрез.\n",
        "8. Объедините смешанную полосу в следующем блоке: замените исходную верхнюю полосу следующего блока новой смешанной полосой.\n",
        "9. Возвращает смешанный блок: Функция возвращает следующий блок с плавно смешанным верхним краем.\n"
      ],
      "metadata": {
        "id": "XD0-4SL1z3Fv"
      }
    },
    {
      "cell_type": "code",
      "source": [
        "def getNextBlockCol(block, src):\n",
        "\n",
        "    strip = np.copy(block[int(bl / 5 * 4):, :, :])\n",
        "    strip_h, strip_w, _ = strip.shape\n",
        "\n",
        "    ssd = np.zeros([height, width])\n",
        "\n",
        "    for i in range(3):\n",
        "        ker = np.ones(strip[:, :, i].shape)\n",
        "        C = np.sum(strip[:, :, i] * strip[:, :, i])\n",
        "        ssd += cv2.filter2D(src[:, :, i] * src[:, :, i], -1, ker) - 2 * (\n",
        "            cv2.filter2D(src[:, :, i], -1, strip[:, :, i])) + C\n",
        "\n",
        "    ssd = ssd[int(strip_h / 2):height - bl, int(strip_w / 2):width - bl]\n",
        "\n",
        "    ssd_flat = ssd.flatten()\n",
        "\n",
        "    k = randomness\n",
        "\n",
        "    random_index = np.argpartition(ssd_flat, k)[np.random.randint(k)]\n",
        "\n",
        "    x = int(random_index % ssd.shape[1])\n",
        "    y = int(random_index / ssd.shape[1])\n",
        "\n",
        "    next_block = np.copy(src[y:y + bl, x:x + bl, :])\n",
        "\n",
        "    next_strip = np.copy(next_block[0:strip_h, 0:strip_w, :])\n",
        "\n",
        "    strip_diff = strip - next_strip\n",
        "    strip_diff *= strip_diff\n",
        "\n",
        "    strip_diff = cv2.cvtColor(strip_diff, cv2.COLOR_BGR2GRAY)\n",
        "\n",
        "    cost = np.copy(strip_diff)\n",
        "    for j in range(1, strip_w):\n",
        "        for i in range(strip_h):\n",
        "            if i == 0:\n",
        "                cost[i, j] += min([cost[i, j - 1], cost[i + 1, j - 1]])\n",
        "            elif i == strip_h - 1:\n",
        "                cost[i, j] += min([cost[i, j - 1], cost[i - 1, j - 1]])\n",
        "            else:\n",
        "                cost[i, j] += min([min([cost[i, j - 1], cost[i - 1, j - 1]]), cost[i + 1, j - 1]])\n",
        "\n",
        "    res_strip = np.zeros(strip.shape)\n",
        "\n",
        "    line_index = np.argmin(cost[:, strip_w - 1])\n",
        "\n",
        "    for j in range(strip_w - 1, -1, -1):\n",
        "\n",
        "        res_strip[:line_index, j, :] = strip[:line_index, j, :]\n",
        "        res_strip[line_index:, j, :] = next_strip[line_index:, j, :]\n",
        "        if line_index == 0:\n",
        "            line_index += np.argmin((cost[:, i])[line_index:line_index + 2])\n",
        "        elif line_index == strip_h - 1:\n",
        "            line_index += np.argmin((cost[:, j])[line_index - 1:line_index + 1]) - 1\n",
        "        else:\n",
        "            line_index += np.argmin((cost[:, j])[line_index - 1:line_index + 2]) - 1\n",
        "\n",
        "    next_block[0:strip_h, :, :] = res_strip\n",
        "    return next_block"
      ],
      "metadata": {
        "id": "-8QKom9agEGk"
      },
      "execution_count": null,
      "outputs": []
    },
    {
      "cell_type": "markdown",
      "source": [
        "(Сгенерированное описание)\n",
        "Эта функция предназначена для поиска подходящего блока из исходного изображения для размещения в средних частях увеличенного результирующего изображения, смешивания его с существующими окружающими блоками для создания плавного перехода.\n",
        "\n",
        "Вот краткое описание того, что делает код:\n",
        "\n",
        "1.   Вычисляет SSD (Сумму квадратов различий): он вычисляет сумму квадратов различий между текущим блоком и потенциальными следующими блоками исходного изображения в пределах определенной области (исключая области наложения). Это помогает находить блоки-кандидаты, которые визуально похожи.\n",
        "2.   Выбирает случайный похожий блок: из случайного числа наиболее подходящих блоков (с наименьшим SSD) случайным образом выбирается один. Это вносит разнообразие и позволяет избежать простого повторения одного и того же блока.\n",
        "3.   Вычисляет разностные полосы: вычисляет разницу между текущим блоком и выбранным следующим блоком в областях перекрытия (вертикальные и горизонтальные полосы, где они будут соединены).\n",
        "4.   Находит путь с минимальными затратами: как для областей вертикального, так и для горизонтального перекрытия программа вычисляет матрицу затрат на основе различий. Затем программа находит путь через эту матрицу затрат, который минимизирует суммарную разницу, эффективно находя наименее заметную линию шва.\n",
        "5.   Совмещение по траектории с минимальными затратами: Текущий блок и выбранный следующий блок совмещаются по траекториям с минимальными затратами, рассчитанным как в вертикальной, так и в горизонтальной областях перекрытия.\n",
        "6.   Это создает более плавный переход, чем простое резкое вырезание.\n",
        "Возвращает смешанный блок: Функция возвращает следующий блок со смешанными краями."
      ],
      "metadata": {
        "id": "yrWfeJKltSYK"
      }
    },
    {
      "cell_type": "code",
      "source": [
        "def getNextBlockMid(block, src):\n",
        "\n",
        "    ssd = np.zeros([height, width])\n",
        "\n",
        "    ker = np.ones([bl, bl])\n",
        "    ker[int(bl / 5):, int(bl / 5):] = 0\n",
        "\n",
        "    for i in range(3):\n",
        "        C = np.sum(block[:, :, i] * block[:, :, i])\n",
        "        ssd += cv2.filter2D(src[:, :, i] * src[:, :, i], -1, ker) - 2 * (\n",
        "            cv2.filter2D(src[:, :, i], -1, block[:, :, i])) + C\n",
        "\n",
        "    ssd = ssd[int(bl / 2):height - bl, int(bl / 2):width - bl]\n",
        "\n",
        "    ssd_flat = ssd.flatten()\n",
        "\n",
        "    k = randomness\n",
        "\n",
        "    random_index = np.argpartition(ssd_flat, k)[np.random.randint(k)]\n",
        "\n",
        "    x = int(random_index % ssd.shape[1])\n",
        "    y = int(random_index / ssd.shape[1])\n",
        "\n",
        "    next_block = np.copy(src[y:y + bl, x:x + bl, :])\n",
        "\n",
        "    block_diff = block - next_block\n",
        "    block_diff *= block_diff\n",
        "    block_diff = cv2.cvtColor(block_diff, cv2.COLOR_BGR2GRAY)\n",
        "\n",
        "    ver_diff = np.copy(block_diff[:, :int(bl / 5)])\n",
        "    hor_diff = np.copy(block_diff[:int(bl / 5), :])\n",
        "\n",
        "    cost = np.copy(ver_diff)\n",
        "    for i in range(1, bl):\n",
        "        for j in range(int(bl / 5)):\n",
        "            if j == 0:\n",
        "                cost[i, j] += min([cost[i - 1, j], cost[i - 1, j + 1]])\n",
        "            elif j == int(bl / 5) - 1:\n",
        "                cost[i, j] += min([cost[i - 1, j], cost[i - 1, j - 1]])\n",
        "            else:\n",
        "                cost[i, j] += min([min([cost[i - 1, j], cost[i - 1, j - 1]]), cost[i - 1, j + 1]])\n",
        "\n",
        "    res_block = np.copy(next_block)\n",
        "\n",
        "    line_index = np.argmin(cost[bl - 1])\n",
        "    for i in range(bl - 1, -1, -1):\n",
        "\n",
        "        res_block[i, :line_index, :] = block[i, :line_index, :]\n",
        "\n",
        "        if line_index == 0:\n",
        "            line_index += np.argmin((cost[i])[line_index:line_index + 2])\n",
        "        elif line_index == int(bl / 5) - 1:\n",
        "            line_index += np.argmin((cost[i])[line_index - 1:line_index + 1]) - 1\n",
        "        else:\n",
        "            line_index += np.argmin((cost[i])[line_index - 1:line_index + 2]) - 1\n",
        "\n",
        "    cost = np.copy(hor_diff)\n",
        "    for j in range(1, bl):\n",
        "        for i in range(int(bl / 5)):\n",
        "            if i == 0:\n",
        "                cost[i, j] += min([cost[i, j - 1], cost[i + 1, j - 1]])\n",
        "            elif i == int(bl / 5) - 1:\n",
        "                cost[i, j] += min([cost[i, j - 1], cost[i - 1, j - 1]])\n",
        "            else:\n",
        "                cost[i, j] += min([min([cost[i, j - 1], cost[i - 1, j - 1]]), cost[i + 1, j - 1]])\n",
        "\n",
        "    line_index = np.argmin(cost[:, bl - 1])\n",
        "\n",
        "    for j in range(bl - 1, -1, -1):\n",
        "\n",
        "        res_block[:line_index, j, :] = block[:line_index, j, :]\n",
        "\n",
        "        if line_index == 0:\n",
        "            line_index += np.argmin((cost[:, i])[line_index:line_index + 2])\n",
        "        elif line_index == int(bl / 5) - 1:\n",
        "            line_index += np.argmin((cost[:, j])[line_index - 1:line_index + 1]) - 1\n",
        "        else:\n",
        "            line_index += np.argmin((cost[:, j])[line_index - 1:line_index + 2]) - 1\n",
        "\n",
        "    return res_block\n"
      ],
      "metadata": {
        "id": "ypDHPekaevsn"
      },
      "execution_count": null,
      "outputs": []
    },
    {
      "cell_type": "markdown",
      "source": [
        "(Сгенерированное описание)\n",
        "Выбранный блок кода отвечает за заполнение результирующего изображения (большого чистого холста) блоками, взятыми из исходного изображения (src), с помощью функций getNextBlockRow, getNextBlockCol и getNextBlockMid, которые вы определили ранее.\n",
        "\n",
        "По шагам:\n",
        "\n",
        "1. Заполнить первую строку (после начального блока):\n",
        "\n",
        "Она начинается с начального блока, расположенного в верхнем левом углу результата.\n",
        "Затем выполняется итерация по горизонтали, вызывается getNextBlockRow, чтобы найти и смешать следующий блок справа.\n",
        "Каждый смешанный блок помещается в соответствующую позицию в первой строке результирующего изображения.\n",
        "Цикл продолжается до тех пор, пока первая строка результирующего изображения не будет заполнена по горизонтали.\n",
        "\n",
        "2. Заполнить первый столбец (после начального блока):\n",
        "\n",
        "Он возвращает текущий блок к исходному блоку в верхнем левом углу.\n",
        "Затем выполняется вертикальная итерация с вызовом getNextBlockCol для поиска и наложения следующего блока вниз.\n",
        "Каждый наложенный блок помещается в соответствующую позицию в первом столбце результирующего изображения.\n",
        "Цикл продолжается до тех пор, пока первый столбец результирующего изображения не будет заполнен по вертикали.\n",
        "\n",
        "3. Заполнить средние участки:\n",
        "\n",
        "Затем используются вложенные циклы для итерации по оставшимся \"средним\" участкам результирующего изображения (исключая первую строку и столбец, которые уже заполнены).\n",
        "Для каждой средней части он берет существующий блок из результирующего изображения в этой позиции.\n",
        "Он вызывает getNextBlockMid, чтобы найти подходящий блок из исходного изображения и смешать его с окружающими блоками, которые уже есть в результате.\n",
        "Затем смешанный блок помещается обратно в результирующее изображение.\n",
        "\n",
        "4. Обрезка результата:\n",
        "\n",
        "Наконец, изображение обрезается до размера 3300x3300 пикселей.\n",
        "По сути, этот блок кода управляет процессом разбиения исходного изображения на фрагменты путем разумного выбора и смешивания блоков для создания более крупной, кажущейся бесшовной текстуры."
      ],
      "metadata": {
        "id": "qDfXe6fTv7ww"
      }
    },
    {
      "cell_type": "code",
      "source": [
        "    for i in range(1, int(np.ceil(3300 / int(bl / 5 * 4)))):\n",
        "        block = getNextBlockRow(block, src)\n",
        "        result[0:bl, int(bl / 5 * 4) * i:bl + int(bl / 5 * 4) * i, :] = block\n",
        "\n",
        "    block = np.copy(result[0:bl, 0:bl, :])\n",
        "    for i in range(1, int(np.ceil(3300 / int(bl / 5 * 4)))):\n",
        "        block = getNextBlockCol(block, src)\n",
        "        result[int(bl / 5 * 4) * i:bl + int(bl / 5 * 4) * i, 0:bl, :] = block\n",
        "\n",
        "    for i in range(1, int(np.ceil(3300 / int(bl / 5 * 4)))):\n",
        "        for j in range(1, int(np.ceil(3300 / int(bl / 5 * 4)))):\n",
        "            block = np.copy(\n",
        "                result[int(bl / 5 * 4) * i:bl + int(bl / 5 * 4) * i, int(bl / 5 * 4) * j:bl + int(bl / 5 * 4) * j, :])\n",
        "            result[int(bl / 5 * 4) * i:bl + int(bl / 5 * 4) * i, int(bl / 5 * 4) * j:bl + int(bl / 5 * 4) * j,\n",
        "            :] = getNextBlockMid(block, src)\n",
        "\n",
        "    result = result[:3300, :3300, :]\n"
      ],
      "metadata": {
        "id": "8L_QopbGgNFh"
      },
      "execution_count": null,
      "outputs": []
    },
    {
      "cell_type": "code",
      "source": [
        "cv2_imshow(result)"
      ],
      "metadata": {
        "id": "wY_il5XHkycl"
      },
      "execution_count": null,
      "outputs": []
    },
    {
      "cell_type": "markdown",
      "source": [
        "Минусы: очень медленный алгоритм, заимствованный код требует рефакторинга и пояснений, присутствуют blocking artifacts"
      ],
      "metadata": {
        "id": "_6zQlgr8sx0r"
      }
    }
  ]
}